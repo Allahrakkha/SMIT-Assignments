{
 "cells": [
  {
   "cell_type": "code",
   "execution_count": 15,
   "id": "99a542a4-b921-41bf-a942-556c8651517d",
   "metadata": {
    "scrolled": true
   },
   "outputs": [
    {
     "name": "stdin",
     "output_type": "stream",
     "text": [
      "enter your salary:  $ 8000\n",
      "enter your years of service: 4\n"
     ]
    },
    {
     "name": "stdout",
     "output_type": "stream",
     "text": [
      "sorry\n"
     ]
    }
   ],
   "source": [
    "#1) A company decided to give bonus of 5% to employee if his/her year of service is more than 5 years. Ask user for their salary and year of\n",
    "#service and print the net bonus amount.\n",
    "\n",
    "salary = int(input(\"enter your salary:  $\"))\n",
    "servYears= int(input(\"enter your years of service:\"))\n",
    "bonus = (salary * 5)/100\n",
    "if servYears >5:\n",
    "    print (\"Congratulation! You are eligible for a bonus of\")\n",
    "    print (float (bonus))\n",
    "else:\n",
    "    print (\"sorry\")\n",
    "    "
   ]
  },
  {
   "cell_type": "code",
   "execution_count": 19,
   "id": "12b3ecaf-a53d-4a77-80f6-e8f2d58c6075",
   "metadata": {},
   "outputs": [
    {
     "name": "stdin",
     "output_type": "stream",
     "text": [
      "enter your age 17\n"
     ]
    },
    {
     "name": "stdout",
     "output_type": "stream",
     "text": [
      "you are out of age.\n"
     ]
    }
   ],
   "source": [
    "#)2 Write a program to check whether a person is eligible for voting or not. (accept age from user) if age is greater than 17 eligible otherwise not\n",
    "#eligible\n",
    "\n",
    "age = int(input(\"enter your age\"))\n",
    "if age >17:\n",
    "    print(\"you are eligible for vote.\")\n",
    "else:\n",
    "    print (\"you are out of age.\")"
   ]
  },
  {
   "cell_type": "code",
   "execution_count": 24,
   "id": "cb5a7847-fab7-45e8-8dc5-3a4b2004e57a",
   "metadata": {},
   "outputs": [
    {
     "name": "stdin",
     "output_type": "stream",
     "text": [
      "please enter number 6\n"
     ]
    },
    {
     "name": "stdout",
     "output_type": "stream",
     "text": [
      "the number is even.\n"
     ]
    }
   ],
   "source": [
    "# 3.write a program to check whether a number entered by user is even or odd.\n",
    "\n",
    "\n",
    "number = int(input(\"please enter number\"))\n",
    "if number% 2== 0:\n",
    "    print (\"the number is even.\")\n",
    "else:\n",
    "    print (\"number is odd.\")"
   ]
  },
  {
   "cell_type": "code",
   "execution_count": 26,
   "id": "fe3d1733-4979-4d49-aaa5-9dbb88b900b2",
   "metadata": {},
   "outputs": [
    {
     "name": "stdin",
     "output_type": "stream",
     "text": [
      "please enter number 14\n"
     ]
    },
    {
     "name": "stdout",
     "output_type": "stream",
     "text": [
      "the number is divisible by 7.\n"
     ]
    }
   ],
   "source": [
    "# 4) Write a program to check whether a number is divisible by 7 or not. Show Answer\n",
    "\n",
    "\n",
    "number = int(input(\"please enter number\"))\n",
    "if number% 7== 0:\n",
    "    print (\"the number is divisible by 7.\")\n",
    "else:\n",
    "    print (\"number is not divisible by 7\")"
   ]
  },
  {
   "cell_type": "code",
   "execution_count": 21,
   "id": "9692fe2f-9ee9-4e4e-8701-49ae16f9d910",
   "metadata": {},
   "outputs": [
    {
     "name": "stdin",
     "output_type": "stream",
     "text": [
      "please enter number 606\n"
     ]
    },
    {
     "name": "stdout",
     "output_type": "stream",
     "text": [
      "bye\n"
     ]
    }
   ],
   "source": [
    "# 5) Write a program to display \"Hello\" if a number entered by user is a multiple of five , otherwise print \"Bye\"\n",
    "\n",
    "\n",
    "number = int(input(\"please enter number\"))\n",
    "if number % 5== 0:\n",
    "    print (\"hello world\")\n",
    "else:\n",
    "    print (\"bye\")"
   ]
  },
  {
   "cell_type": "code",
   "execution_count": 27,
   "id": "498b5241-b7ad-4b05-8ba3-7a447e9dd528",
   "metadata": {},
   "outputs": [
    {
     "name": "stdin",
     "output_type": "stream",
     "text": [
      "Enter a number:  607\n"
     ]
    },
    {
     "name": "stdout",
     "output_type": "stream",
     "text": [
      "The last digit of 607 is: 7\n",
      "the last digit is NOT dividable by 3\n"
     ]
    }
   ],
   "source": [
    "#Write a program to display the last digit of a number.\n",
    "number = int(input(\"Enter a number: \"))\n",
    "\n",
    "# Calculate and display the last digit\n",
    "last_digit = number % 10\n",
    "print(f\"The last digit of {number} is: {last_digit}\")\n",
    "if last_digit % 3 == 0:\n",
    "    print (\"the last digit is divideable by 3\")\n",
    "else:\n",
    "    print (\"the last digit is NOT dividable by 3\")"
   ]
  },
  {
   "cell_type": "code",
   "execution_count": 18,
   "id": "ee30b796-ca09-40be-ad73-ed973fe2d163",
   "metadata": {},
   "outputs": [
    {
     "name": "stdin",
     "output_type": "stream",
     "text": [
      "enter you consumed units 300\n"
     ]
    },
    {
     "name": "stdout",
     "output_type": "stream",
     "text": [
      "your electric bill amont is Rs. 1000\n"
     ]
    }
   ],
   "source": [
    "#) Write a program to calculate the electricity bill (accept number of unit from user) according to the following criteria : Unit Price\n",
    "#uptp 100 units no charge Next 200 units Rs 5 per unit After 200 units Rs 10 per unit (For example if input unit is 350 than total bill amount is\n",
    "#Rs.3500 (For example if input unit is 97 than total bill amount is Rs.0 (For example if input unit is 150 than total bill amount is Rs.750\n",
    "\n",
    "\n",
    "\n",
    "nit = int (input(\"enter you consumed units\"))\n",
    "if units <= 100:\n",
    "    bill_amount = 0\n",
    "elif units <= 300:\n",
    "    bill_amonut = (unit - 100) * 5\n",
    "else:\n",
    "    bill_amount = (200 * 5) + (unit - 300) * 10\n",
    "print (f\"your electric bill amont is Rs. {bill_amount}\")"
   ]
  },
  {
   "cell_type": "code",
   "execution_count": 42,
   "id": "28177046-74da-41c9-a539-4772e4505068",
   "metadata": {},
   "outputs": [
    {
     "name": "stdin",
     "output_type": "stream",
     "text": [
      "please enter your first number 5\n",
      "please enter your second number 6\n"
     ]
    },
    {
     "name": "stdout",
     "output_type": "stream",
     "text": [
      "num2 is greater than num1\n"
     ]
    }
   ],
   "source": [
    "num1 = int(input(\"please enter your first number\"))\n",
    "num2 = int(input(\"please enter your second number\"))\n",
    "if num1 > num2:\n",
    "    print (\"num1 is greater than num2\" )\n",
    "elif num2 > num1:\n",
    "    print (\"num2 is greater than num1\")\n",
    "else:\n",
    "    print (\"both number are equal\")\n",
    " "
   ]
  },
  {
   "cell_type": "code",
   "execution_count": 64,
   "id": "17769199-5adb-4cbd-b303-5e154cf892a7",
   "metadata": {},
   "outputs": [
    {
     "name": "stdin",
     "output_type": "stream",
     "text": [
      "please enter product qty? 12\n"
     ]
    },
    {
     "name": "stdout",
     "output_type": "stream",
     "text": [
      "Total cost is : Rs 1200\n",
      "you are eligible for discounted cost Rs: 1080.0\n",
      "you have got discount Rs:120.000000\n"
     ]
    }
   ],
   "source": [
    "product_qty= int(input(\"please enter product qty?\"))\n",
    "per_unit = 100\n",
    "product_cost = product_qty * per_unit\n",
    "discount = (product_cost) - ((product_cost * 10)/100) \n",
    "discount_amount = ((product_cost * 10)/100) \n",
    "if product_cost > 1000:\n",
    "    print (f\"Total cost is : Rs {product_cost}\")\n",
    "    print (f\"you are eligible for discounted cost Rs: {discount}\")\n",
    "    print (f\"you have got discount Rs:{discount_amount}\")\n",
    "    #print (float (discount))\n",
    "else: \n",
    "    print (\"no discount\")\n",
    "    print (f\"Total cost of Rs: {product_cost}\")"
   ]
  },
  {
   "cell_type": "code",
   "execution_count": 5,
   "id": "fd863e02-9e1b-4e19-8be0-f9563612adbc",
   "metadata": {},
   "outputs": [
    {
     "name": "stdin",
     "output_type": "stream",
     "text": [
      "Enter the quantity:  10\n"
     ]
    },
    {
     "name": "stdout",
     "output_type": "stream",
     "text": [
      "Total cost: Rs.1000.00\n"
     ]
    }
   ],
   "source": [
    "# Input: Get the quantity from the user\n",
    "quantity = int(input(\"Enter the quantity: \"))\n",
    "\n",
    "# Calculate the total cost (assuming one unit costs 100)\n",
    "unit_cost = 100\n",
    "total_cost = quantity * unit_cost\n",
    "\n",
    "# Apply a discount if the total cost is more than 1000\n",
    "if total_cost > 1000:\n",
    "    discount = 0.10 * total_cost\n",
    "    total_cost -= discount\n",
    "    print(\"Congratulations! You qualify for a 10% discount.\")\n",
    "    print(f\"Total cost after discount: Rs.{total_cost:.2f}\")\n",
    "else:\n",
    "    print(f\"Total cost: Rs.{total_cost:.2f}\")\n"
   ]
  },
  {
   "cell_type": "code",
   "execution_count": 3,
   "id": "09a13cd8-c177-4b91-9afe-100a7814b174",
   "metadata": {},
   "outputs": [
    {
     "name": "stdin",
     "output_type": "stream",
     "text": [
      "please enter your marks 20\n"
     ]
    }
   ],
   "source": [
    "'''12) A school has following rules for grading system:\n",
    "a. Below 25 - F\n",
    "b. 25 to 45 - E\n",
    "c. 45 to 50 - D\n",
    "d. 50 to 60 - C\n",
    "e. 60 to 80 - B\n",
    "f. Above 80 - A\n",
    "Ask user to enter marks and print the corresponding grade.'''\n",
    "\n",
    "marks = int (input(\"please enter your marks\"))\n",
    "if marks <= 25:\n",
    "   Grade = \"F\""
   ]
  },
  {
   "cell_type": "code",
   "execution_count": null,
   "id": "843d0ec5-c75a-402e-938b-bf59e8e7e648",
   "metadata": {},
   "outputs": [],
   "source": []
  }
 ],
 "metadata": {
  "kernelspec": {
   "display_name": "Python 3 (ipykernel)",
   "language": "python",
   "name": "python3"
  },
  "language_info": {
   "codemirror_mode": {
    "name": "ipython",
    "version": 3
   },
   "file_extension": ".py",
   "mimetype": "text/x-python",
   "name": "python",
   "nbconvert_exporter": "python",
   "pygments_lexer": "ipython3",
   "version": "3.12.1"
  }
 },
 "nbformat": 4,
 "nbformat_minor": 5
}
